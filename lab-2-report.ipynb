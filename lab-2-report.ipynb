{
 "cells": [
  {
   "cell_type": "markdown",
   "source": [
    "# Stat 220 Lab 2: Probability Calculation for Red Dragon Inn\n",
    "\n",
    "## Instructions\n",
    "\n",
    "The Red Dragon Inn is an online Dungeons and Dragons community, connecting players worldwide. In this lab, you will develop a tool that helps users calculate the probabilities of specific events occurring during gameplay, enhancing their strategic planning. For instance, users may wish to calculate the probability of the sum of two six-sided dice being 10 or more.\n",
    "\n",
    "In Dungeons and Dragons, the notation _mdn_ denotes the process of rolling _m_ dice, each with _n_ sides. Here, rolling two six-sided dice is expressed as 2*d*6, and rolling three eight-sided dice is denoted by 3*d*8. You are tasked with creating a utility to assist players in the following two scenarios:\n",
    "* **Scenario A:** Calculating the probability of rolling _m_ dice, each with _n_ sides, and having the sum of the dice be greater than _x_. This calculation should only be implemented for _m_ = 1 through 4 and _n_ is at most 20.\n",
    "* **Scenario B:** Determining the probability of rolling _m_ dice, each with n sides, and having at least one die show a value greater than or equal to _x_.\n",
    "\n",
    "Your task is to develop two functions, one for each scenario, where users can input values for _m_, _n_, and _x_ to compute the required probability. Ensure to document your code well, with comments that effectively guide users through each step of the computation process.\n",
    "\n",
    "Here’s a hint to help you get started with computing probabilities in Python. The following code snippet shows how to calculate the probability of rolling a sum greater than or equal to a specific target using three six-sided dice (3d6):\n",
    "\n",
    "```python\n",
    "import itertools\n",
    "import pandas as pd\n",
    "import numpy as np\n",
    "\n",
    "# List out all possible rolls, in this case for 3d6\n",
    "rolls = list(itertools.product(range(1, 7), repeat=3))\n",
    "# Find the sum of all possible rolls\n",
    "sums = np.array([sum(roll) for roll in rolls])\n",
    "# Find the proportion of those sums that are greater than or equal to the target,\n",
    "# in this case 14\n",
    "np.mean(sums >= 14)\n",
    "```\n",
    "\n",
    "This code uses the `itertools.product` function to generate all possible combinations of outcomes for the dice rolls and then calculates the proportion of those combinations that meet or exceed the target sum. You can use this code to get started in the function you need for Scenario A.\n",
    "\n",
    "Evaluate the performance of your tool using the following scenario:\n",
    "\n",
    "A player is in a challenging situation where they have a choice. They can choose between the following challenges:\n",
    "* Roll 1d20 and get a result of 17 or more\n",
    "* Roll 3d4 and get a result of 10 or more\n",
    "* Roll 4d6 and have at least one dice show a 6\n",
    "\n",
    "Use your tool to compute the probabilities and report the best choice for the player.\n",
    "\n",
    "## Deliverables:\n",
    "Submit a comprehensive report to Red Dragon Inn containing:\n",
    "1. A well-documented code capable of computing the probabilities specified in scenarios A and B.\n",
    "2. A walkthrough example showcasing the application of your code in resolving the situation delineated above. Be sure to highlight or emphasize the probabilities you find.\n",
    "\n",
    "You can again complete this in a Python notebook with everything clearly labeled and formatted.\n"
   ],
   "metadata": {
    "collapsed": false,
    "id": "5d771c7c1e83c5fb"
   },
   "id": "5d771c7c1e83c5fb"
  },
  {
   "cell_type": "markdown",
   "source": [
    "## Code\n",
    "_A well-documented code capable of computing the probabilities specified in scenarios A and B:_\n",
    "* ***Scenario A:*** _Calculating the probability of rolling m dice, each with n sides, and having the sum of the dice be greater than x. This calculation should only be implemented for m = 1 through 4 and n is at most 20._\n",
    "* ***Scenario B:*** _Determining the probability of rolling m dice, each with n sides, and having at least one die show a value greater than or equal to x._\n",
    "\n",
    "_Your task is to develop two functions, one for each scenario, where users can input values for m, n, and x to compute the required probability. Ensure to document your code well, with comments that effectively guide users through each step of the computation process._\n",
    "\n",
    "_Here’s a hint to help you get started with computing probabilities in Python. The following code snippet shows how to calculate the probability of rolling a sum greater than or equal to a specific target using three six-sided dice (3d6):_\n",
    "\n",
    "```python\n",
    "import itertools\n",
    "import pandas as pd\n",
    "import numpy as np\n",
    "\n",
    "# List out all possible rolls, in this case for 3d6\n",
    "rolls = list(itertools.product(range(1, 7), repeat=3))\n",
    "# Find the sum of all possible rolls\n",
    "sums = np.array([sum(roll) for roll in rolls])\n",
    "# Find the proportion of those sums that are greater than or equal to the target,\n",
    "# in this case 14\n",
    "np.mean(sums >= 14)\n",
    "```\n",
    "\n",
    "_This code uses the `itertools.product` function to generate all possible combinations of outcomes for the dice rolls and then calculates the proportion of those combinations that meet or exceed the target sum. You can use this code to get started in the function you need for Scenario A._\n"
   ],
   "metadata": {
    "collapsed": false,
    "id": "e6049feea7c6dc42"
   },
   "id": "e6049feea7c6dc42"
  },
  {
   "cell_type": "markdown",
   "source": [
    "### Setup"
   ],
   "metadata": {
    "collapsed": false,
    "id": "9da839bf81dfb993"
   },
   "id": "9da839bf81dfb993"
  },
  {
   "cell_type": "code",
   "outputs": [],
   "source": [
    "import itertools\n",
    "import numpy as np\n",
    "from scipy.stats import binom, geom"
   ],
   "metadata": {
    "id": "e7de597a2df07d5a",
    "ExecuteTime": {
     "end_time": "2024-09-25T00:41:20.955923Z",
     "start_time": "2024-09-25T00:41:19.339495Z"
    }
   },
   "id": "e7de597a2df07d5a",
   "execution_count": 1
  },
  {
   "cell_type": "markdown",
   "source": [
    "### Scenario A Code\n",
    "_Calculating the probability of rolling m dice, each with n sides, and having the sum of the dice be greater than x. This calculation should only be implemented for m = 1 through 4 and n is at most 20._"
   ],
   "metadata": {
    "collapsed": false,
    "id": "6a6deb08a49e2f75"
   },
   "id": "6a6deb08a49e2f75"
  },
  {
   "cell_type": "code",
   "outputs": [],
   "source": [
    "def roll_minimum_sum_probability(dice: int, sides: int, min_result: int) -> float:\n",
    "  # error handling\n",
    "  if not (1 <= dice <= 4 and sides <=20):\n",
    "    raise ValueError('Number of dice must be between 1 and 4, and sides at most 20')\n",
    "  # use itertools to get list of rolls/every permutation\n",
    "  rolls = list(itertools.product(range(1, sides + 1), repeat=dice))\n",
    "  sums = np.array([sum(roll) for roll in rolls])\n",
    "  # calculate and return probability\n",
    "  probability = np.mean(sums >= min_result)\n",
    "  return probability"
   ],
   "metadata": {
    "id": "5919ec47b3cf81b6",
    "ExecuteTime": {
     "end_time": "2024-09-25T00:41:20.972413Z",
     "start_time": "2024-09-25T00:41:20.958838Z"
    }
   },
   "id": "5919ec47b3cf81b6",
   "execution_count": 2
  },
  {
   "cell_type": "markdown",
   "source": [
    "### Scenario B Code\n",
    "_Determining the probability of rolling m dice, each with n sides, and having at least one die show a value greater than or equal to x._"
   ],
   "metadata": {
    "collapsed": false,
    "id": "948a6088f167ff91"
   },
   "id": "948a6088f167ff91"
  },
  {
   "cell_type": "code",
   "outputs": [],
   "source": [
    "def roll_minimum_single_probability(dice: int, sides: int, min_result: int) -> float:\n",
    "  \"\"\"\n",
    "  Method used to calculate the probability of given m dice rolls with n sides that one rolls a number\n",
    "  greater than or equal to the parameter min_result\n",
    "\n",
    "  :param dice: number of dice being rolled\n",
    "  :param sides: number of sides on the dice\n",
    "  :param min_result: target roll result that one must get greater than or equal to\n",
    "  :return: probability of rolling greater than or equal to min_result at least once given m dice with n sides\n",
    "  \"\"\"\n",
    "  p_success = (sides - (min_result - 1)) / sides\n",
    "  return geom.cdf(dice, p_success)"
   ],
   "metadata": {
    "id": "7c75cd85aa1d4ec4",
    "ExecuteTime": {
     "end_time": "2024-09-25T00:41:20.985824Z",
     "start_time": "2024-09-25T00:41:20.975621Z"
    }
   },
   "id": "7c75cd85aa1d4ec4",
   "execution_count": 3
  },
  {
   "cell_type": "markdown",
   "source": [
    "## Walkthrough Example\n",
    "_A walkthrough example showcasing the application of your code in resolving the situation delineated above._ ***Be sure to highlight or emphasize the probabilities you find.***\n",
    "\n",
    "_Evaluate the performance of your tool using the following scenario:_\n",
    "\n",
    "_A player is in a challenging situation where they have a choice.\n",
    "They can choose between the following challenges:_\n",
    "* _Roll 1d20 and get a result of 17 or more_\n",
    "* _Roll 3d4 and get a result of 10 or more_\n",
    "* _Roll 4d6 and have at least one dice show a 6_\n",
    "\n",
    "_Use your tool to compute the probabilities and report the best choice for the player._\n"
   ],
   "metadata": {
    "collapsed": false,
    "id": "ca107977f5e77558"
   },
   "id": "ca107977f5e77558"
  },
  {
   "cell_type": "code",
   "outputs": [
    {
     "name": "stdout",
     "output_type": "stream",
     "text": [
      "Roll 1d20 and get a result of 17 or more:     0.20000\n",
      "Roll 3d4 and get a result of 10 or more:      0.15625\n",
      "Roll 4d6 and have at least one dice show a 6: 0.51775\n",
      "Best choice is the 3rd option of rolling at least 1 6 from 4d6.\n"
     ]
    }
   ],
   "source": [
    "choice_1 = roll_minimum_sum_probability(dice=1, sides=20, min_result=17)\n",
    "choice_2 = roll_minimum_sum_probability(dice=3, sides=4, min_result=10)\n",
    "choice_3 = roll_minimum_single_probability(dice=4, sides=6, min_result=6)\n",
    "\n",
    "print(f'Roll 1d20 and get a result of 17 or more:     {choice_1:.5f}')\n",
    "print(f'Roll 3d4 and get a result of 10 or more:      {choice_2:.5f}')\n",
    "print(f'Roll 4d6 and have at least one dice show a 6: {choice_3:.5f}')\n",
    "\n",
    "print('Best choice is the 3rd option of rolling at least 1 6 from 4d6.')"
   ],
   "metadata": {
    "colab": {
     "base_uri": "https://localhost:8080/"
    },
    "id": "cbc48861eac07dde",
    "executionInfo": {
     "status": "ok",
     "timestamp": 1727224229921,
     "user_tz": 360,
     "elapsed": 9,
     "user": {
      "displayName": "Dylan Jones",
      "userId": "09117512750097607630"
     }
    },
    "outputId": "1ae22467-4c86-4311-d508-d247b57f4dbb",
    "ExecuteTime": {
     "end_time": "2024-09-25T00:41:21.005954Z",
     "start_time": "2024-09-25T00:41:20.989021Z"
    }
   },
   "id": "cbc48861eac07dde",
   "execution_count": 4
  },
  {
   "cell_type": "code",
   "source": [],
   "metadata": {
    "id": "Hm7RJuXkimOM",
    "ExecuteTime": {
     "end_time": "2024-09-25T00:41:21.020967Z",
     "start_time": "2024-09-25T00:41:21.013732Z"
    }
   },
   "id": "Hm7RJuXkimOM",
   "execution_count": 4,
   "outputs": []
  }
 ],
 "metadata": {
  "kernelspec": {
   "display_name": "Python 3",
   "language": "python",
   "name": "python3"
  },
  "language_info": {
   "codemirror_mode": {
    "name": "ipython",
    "version": 2
   },
   "file_extension": ".py",
   "mimetype": "text/x-python",
   "name": "python",
   "nbconvert_exporter": "python",
   "pygments_lexer": "ipython2",
   "version": "2.7.6"
  },
  "colab": {
   "provenance": []
  }
 },
 "nbformat": 4,
 "nbformat_minor": 5
}
