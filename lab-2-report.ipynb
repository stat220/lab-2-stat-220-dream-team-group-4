{
 "cells": [
  {
   "cell_type": "markdown",
   "source": [
    "# Stat 220 Lab 2: Probability Calculation for Red Dragon Inn\n",
    "\n",
    "## Instructions\n",
    "\n",
    "The Red Dragon Inn is an online Dungeons and Dragons community, connecting players worldwide. In this lab, you will develop a tool that helps users calculate the probabilities of specific events occurring during gameplay, enhancing their strategic planning. For instance, users may wish to calculate the probability of the sum of two six-sided dice being 10 or more.\n",
    "\n",
    "In Dungeons and Dragons, the notation _mdn_ denotes the process of rolling _m_ dice, each with _n_ sides. Here, rolling two six-sided dice is expressed as 2*d*6, and rolling three eight-sided dice is denoted by 3*d*8. You are tasked with creating a utility to assist players in the following two scenarios:\n",
    "* **Scenario A:** Calculating the probability of rolling _m_ dice, each with _n_ sides, and having the sum of the dice be greater than _x_. This calculation should only be implemented for _m_ = 1 through 4 and _n_ is at most 20.\n",
    "* **Scenario B:** Determining the probability of rolling _m_ dice, each with n sides, and having at least one die show a value greater than or equal to _x_.\n",
    "\n",
    "Your task is to develop two functions, one for each scenario, where users can input values for _m_, _n_, and _x_ to compute the required probability. Ensure to document your code well, with comments that effectively guide users through each step of the computation process.\n",
    "\n",
    "Here’s a hint to help you get started with computing probabilities in Python. The following code snippet shows how to calculate the probability of rolling a sum greater than or equal to a specific target using three six-sided dice (3d6):\n",
    "\n",
    "```python\n",
    "import itertools\n",
    "import pandas as pd\n",
    "import numpy as np\n",
    "\n",
    "# List out all possible rolls, in this case for 3d6\n",
    "rolls = list(itertools.product(range(1, 7), repeat=3))\n",
    "# Find the sum of all possible rolls\n",
    "sums = np.array([sum(roll) for roll in rolls])\n",
    "# Find the proportion of those sums that are greater than or equal to the target,\n",
    "# in this case 14\n",
    "np.mean(sums >= 14)\n",
    "```\n",
    "\n",
    "This code uses the `itertools.product` function to generate all possible combinations of outcomes for the dice rolls and then calculates the proportion of those combinations that meet or exceed the target sum. You can use this code to get started in the function you need for Scenario A.\n",
    "\n",
    "Evaluate the performance of your tool using the following scenario:\n",
    "\n",
    "A player is in a challenging situation where they have a choice. They can choose between the following challenges:\n",
    "* Roll 1d20 and get a result of 17 or more\n",
    "* Roll 3d4 and get a result of 10 or more\n",
    "* Roll 4d6 and have at least one dice show a 6\n",
    "\n",
    "Use your tool to compute the probabilities and report the best choice for the player.\n",
    "\n",
    "## Deliverables:\n",
    "Submit a comprehensive report to Red Dragon Inn containing:\n",
    "1. A well-documented code capable of computing the probabilities specified in scenarios A and B.\n",
    "2. A walkthrough example showcasing the application of your code in resolving the situation delineated above. Be sure to highlight or emphasize the probabilities you find.\n",
    "\n",
    "You can again complete this in a Python notebook with everything clearly labeled and formatted.\n"
   ],
   "metadata": {
    "collapsed": false
   },
   "id": "5d771c7c1e83c5fb"
  },
  {
   "cell_type": "markdown",
   "source": [
    "## Code\n",
    "_A well-documented code capable of computing the probabilities specified in scenarios A and B:_\n",
    "* ***Scenario A:*** _Calculating the probability of rolling _m_ dice, each with _n_ sides, and having the sum of the dice be greater than _x_. This calculation should only be implemented for _m_ = 1 through 4 and _n_ is at most 20._\n",
    "* ***Scenario B:*** _Determining the probability of rolling _m_ dice, each with n sides, and having at least one die show a value greater than or equal to _x_._\n",
    "\n",
    "_Your task is to develop two functions, one for each scenario, where users can input values for _m_, _n_, and _x_ to compute the required probability. Ensure to document your code well, with comments that effectively guide users through each step of the computation process._\n",
    "\n",
    "_Here’s a hint to help you get started with computing probabilities in Python. The following code snippet shows how to calculate the probability of rolling a sum greater than or equal to a specific target using three six-sided dice (3d6):_\n",
    "\n",
    "```python\n",
    "import itertools\n",
    "import pandas as pd\n",
    "import numpy as np\n",
    "\n",
    "# List out all possible rolls, in this case for 3d6\n",
    "rolls = list(itertools.product(range(1, 7), repeat=3))\n",
    "# Find the sum of all possible rolls\n",
    "sums = np.array([sum(roll) for roll in rolls])\n",
    "# Find the proportion of those sums that are greater than or equal to the target,\n",
    "# in this case 14\n",
    "np.mean(sums >= 14)\n",
    "```\n",
    "\n",
    "_This code uses the `itertools.product` function to generate all possible combinations of outcomes for the dice rolls and then calculates the proportion of those combinations that meet or exceed the target sum. You can use this code to get started in the function you need for Scenario A._\n"
   ],
   "metadata": {
    "collapsed": false
   },
   "id": "e6049feea7c6dc42"
  },
  {
   "cell_type": "markdown",
   "source": [
    "### Setup"
   ],
   "metadata": {
    "collapsed": false
   },
   "id": "9da839bf81dfb993"
  },
  {
   "cell_type": "code",
   "outputs": [],
   "source": [],
   "metadata": {
    "collapsed": false,
    "ExecuteTime": {
     "end_time": "2024-09-23T16:48:32.938162Z",
     "start_time": "2024-09-23T16:48:32.933634Z"
    }
   },
   "id": "e7de597a2df07d5a",
   "execution_count": null
  },
  {
   "cell_type": "markdown",
   "source": [
    "### Scenario A Code"
   ],
   "metadata": {
    "collapsed": false
   },
   "id": "6a6deb08a49e2f75"
  },
  {
   "cell_type": "code",
   "outputs": [],
   "source": [],
   "metadata": {
    "collapsed": false,
    "ExecuteTime": {
     "end_time": "2024-09-23T16:48:33.022437Z",
     "start_time": "2024-09-23T16:48:33.017934Z"
    }
   },
   "id": "5919ec47b3cf81b6",
   "execution_count": null
  },
  {
   "cell_type": "markdown",
   "source": [
    "### Scenario B Code"
   ],
   "metadata": {
    "collapsed": false
   },
   "id": "948a6088f167ff91"
  },
  {
   "cell_type": "code",
   "outputs": [],
   "source": [],
   "metadata": {
    "collapsed": false,
    "ExecuteTime": {
     "end_time": "2024-09-23T16:48:33.042064Z",
     "start_time": "2024-09-23T16:48:33.037060Z"
    }
   },
   "id": "7c75cd85aa1d4ec4",
   "execution_count": null
  },
  {
   "cell_type": "markdown",
   "source": [
    "## Walkthrough Example\n",
    "_A walkthrough example showcasing the application of your code in resolving the situation delineated above._ ***Be sure to highlight or emphasize the probabilities you find.***\n",
    "\n",
    "_Evaluate the performance of your tool using the following scenario:_\n",
    "\n",
    "_A player is in a challenging situation where they have a choice.\n",
    "They can choose between the following challenges:_\n",
    "* _Roll 1d20 and get a result of 17 or more_\n",
    "* _Roll 3d4 and get a result of 10 or more_\n",
    "* _Roll 4d6 and have at least one dice show a 6_\n",
    "\n",
    "_Use your tool to compute the probabilities and report the best choice for the player._\n"
   ],
   "metadata": {
    "collapsed": false
   },
   "id": "ca107977f5e77558"
  },
  {
   "cell_type": "code",
   "outputs": [],
   "source": [],
   "metadata": {
    "collapsed": false,
    "ExecuteTime": {
     "end_time": "2024-09-23T16:48:33.060708Z",
     "start_time": "2024-09-23T16:48:33.056613Z"
    }
   },
   "id": "cbc48861eac07dde",
   "execution_count": 0
  }
 ],
 "metadata": {
  "kernelspec": {
   "display_name": "Python 3",
   "language": "python",
   "name": "python3"
  },
  "language_info": {
   "codemirror_mode": {
    "name": "ipython",
    "version": 2
   },
   "file_extension": ".py",
   "mimetype": "text/x-python",
   "name": "python",
   "nbconvert_exporter": "python",
   "pygments_lexer": "ipython2",
   "version": "2.7.6"
  }
 },
 "nbformat": 4,
 "nbformat_minor": 5
}
